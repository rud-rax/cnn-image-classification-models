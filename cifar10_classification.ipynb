{
 "cells": [
  {
   "cell_type": "code",
   "execution_count": 1,
   "metadata": {},
   "outputs": [],
   "source": [
    "import tensorflow as tf\n",
    "from tensorflow.keras import datasets , layers , models\n",
    "import matplotlib.pyplot as plt\n",
    "import numpy as np"
   ]
  },
  {
   "cell_type": "code",
   "execution_count": 2,
   "metadata": {},
   "outputs": [],
   "source": [
    "(x_train , y_train) , (x_test , y_test) = datasets.cifar10.load_data()"
   ]
  },
  {
   "cell_type": "code",
   "execution_count": 3,
   "metadata": {},
   "outputs": [],
   "source": [
    "y_train = y_train.reshape(-1 ,)"
   ]
  },
  {
   "cell_type": "code",
   "execution_count": 4,
   "metadata": {},
   "outputs": [],
   "source": [
    "classes = [\"airplane\", \"automobile\", \"bird\", \"cat\", \"deer\", \"dog\", \"frog\", \"horse\", \"ship\", \"truck\"]\n"
   ]
  },
  {
   "cell_type": "code",
   "execution_count": 5,
   "metadata": {},
   "outputs": [
    {
     "data": {
      "text/plain": [
       "array([6, 9, 9, ..., 9, 1, 1], dtype=uint8)"
      ]
     },
     "execution_count": 5,
     "metadata": {},
     "output_type": "execute_result"
    }
   ],
   "source": [
    "y_train"
   ]
  },
  {
   "cell_type": "code",
   "execution_count": 6,
   "metadata": {},
   "outputs": [],
   "source": [
    "def plot_sample(X , y , index) :\n",
    "    plt.figure(figsize= (15,2))\n",
    "    plt.imshow(X[index])\n",
    "    plt.xlabel(classes[y[index]])\n",
    "    plt.show()"
   ]
  },
  {
   "cell_type": "code",
   "execution_count": 7,
   "metadata": {},
   "outputs": [
    {
     "data": {
      "image/png": "[encoded data removed]",
      "text/plain": [
       "<Figure size 1500x200 with 1 Axes>"
      ]
     },
     "metadata": {},
     "output_type": "display_data"
    }
   ],
   "source": [
    "plot_sample(x_train , y_train , 0)"
   ]
  },
  {
   "cell_type": "code",
   "execution_count": 8,
   "metadata": {},
   "outputs": [
    {
     "data": {
      "image/png": "[encoded data removed]",
      "text/plain": [
       "<Figure size 1500x200 with 1 Axes>"
      ]
     },
     "metadata": {},
     "output_type": "display_data"
    }
   ],
   "source": [
    "plot_sample(x_train , y_train , 1)\n"
   ]
  },
  {
   "cell_type": "code",
   "execution_count": 9,
   "metadata": {},
   "outputs": [],
   "source": [
    "x_train = x_train / 255\n",
    "x_test = x_test / 255"
   ]
  },
  {
   "attachments": {},
   "cell_type": "markdown",
   "metadata": {},
   "source": [
    "Building an ANN"
   ]
  },
  {
   "cell_type": "code",
   "execution_count": 10,
   "metadata": {},
   "outputs": [
    {
     "name": "stdout",
     "output_type": "stream",
     "text": [
      "Metal device set to: Apple M2\n",
      "\n",
      "systemMemory: 16.00 GB\n",
      "maxCacheSize: 5.33 GB\n",
      "\n"
     ]
    }
   ],
   "source": [
    "ann = models.Sequential([\n",
    "    layers.Flatten(input_shape = (32 , 32 , 3)),\n",
    "    layers.Dense(3000 , activation = 'relu'),\n",
    "    layers.Dense(1000 , activation = 'relu'),\n",
    "    layers.Dense(10 , activation = 'sigmoid')\n",
    "])"
   ]
  },
  {
   "cell_type": "code",
   "execution_count": 11,
   "metadata": {},
   "outputs": [],
   "source": [
    "ann.compile(optimizer= 'SGD' , loss = 'sparse_categorical_crossentropy' , metrics = ['accuracy'])\n"
   ]
  },
  {
   "cell_type": "code",
   "execution_count": 12,
   "metadata": {},
   "outputs": [
    {
     "name": "stdout",
     "output_type": "stream",
     "text": [
      "Epoch 1/20\n"
     ]
    },
    {
     "name": "stderr",
     "output_type": "stream",
     "text": [
      "2023-05-15 23:31:17.278474: W tensorflow/tsl/platform/profile_utils/cpu_utils.cc:128] Failed to get CPU frequency: 0 Hz\n"
     ]
    },
    {
     "name": "stdout",
     "output_type": "stream",
     "text": [
      "1563/1563 [==============================] - 18s 11ms/step - loss: 1.8127 - accuracy: 0.3553\n",
      "Epoch 2/20\n",
      "1563/1563 [==============================] - 18s 11ms/step - loss: 1.6254 - accuracy: 0.4274\n",
      "Epoch 3/20\n",
      "1563/1563 [==============================] - 18s 11ms/step - loss: 1.5423 - accuracy: 0.4556\n",
      "Epoch 4/20\n",
      "1563/1563 [==============================] - 17s 11ms/step - loss: 1.4828 - accuracy: 0.4777\n",
      "Epoch 5/20\n",
      "1563/1563 [==============================] - 17s 11ms/step - loss: 1.4349 - accuracy: 0.4943\n",
      "Epoch 6/20\n",
      "1563/1563 [==============================] - 17s 11ms/step - loss: 1.3907 - accuracy: 0.5107\n",
      "Epoch 7/20\n",
      "1563/1563 [==============================] - 16s 10ms/step - loss: 1.3543 - accuracy: 0.5256\n",
      "Epoch 8/20\n",
      "1563/1563 [==============================] - 17s 11ms/step - loss: 1.3190 - accuracy: 0.5383\n",
      "Epoch 9/20\n",
      "1563/1563 [==============================] - 17s 11ms/step - loss: 1.2864 - accuracy: 0.5469\n",
      "Epoch 10/20\n",
      "1563/1563 [==============================] - 17s 11ms/step - loss: 1.2555 - accuracy: 0.5593\n",
      "Epoch 11/20\n",
      "1563/1563 [==============================] - 17s 11ms/step - loss: 1.2277 - accuracy: 0.5695\n",
      "Epoch 12/20\n",
      "1563/1563 [==============================] - 17s 11ms/step - loss: 1.1957 - accuracy: 0.5819\n",
      "Epoch 13/20\n",
      "1563/1563 [==============================] - 16s 11ms/step - loss: 1.1683 - accuracy: 0.5915\n",
      "Epoch 14/20\n",
      "1563/1563 [==============================] - 16s 10ms/step - loss: 1.1436 - accuracy: 0.6010\n",
      "Epoch 15/20\n",
      "1563/1563 [==============================] - 18s 11ms/step - loss: 1.1132 - accuracy: 0.6117\n",
      "Epoch 16/20\n",
      "1563/1563 [==============================] - 18s 11ms/step - loss: 1.0895 - accuracy: 0.6204\n",
      "Epoch 17/20\n",
      "1563/1563 [==============================] - 18s 11ms/step - loss: 1.0611 - accuracy: 0.6321\n",
      "Epoch 18/20\n",
      "1563/1563 [==============================] - 17s 11ms/step - loss: 1.0373 - accuracy: 0.6396\n",
      "Epoch 19/20\n",
      "1563/1563 [==============================] - 17s 11ms/step - loss: 1.0093 - accuracy: 0.6470\n",
      "Epoch 20/20\n",
      "1563/1563 [==============================] - 17s 11ms/step - loss: 0.9891 - accuracy: 0.6564\n"
     ]
    },
    {
     "data": {
      "text/plain": [
       "<keras.callbacks.History at 0x296d81e80>"
      ]
     },
     "execution_count": 12,
     "metadata": {},
     "output_type": "execute_result"
    }
   ],
   "source": [
    "ann.fit(x_train , y_train , epochs= 20)"
   ]
  },
  {
   "cell_type": "code",
   "execution_count": 13,
   "metadata": {},
   "outputs": [
    {
     "name": "stdout",
     "output_type": "stream",
     "text": [
      "313/313 [==============================] - 2s 6ms/step - loss: 1.4067 - accuracy: 0.5148\n"
     ]
    },
    {
     "data": {
      "text/plain": [
       "[1.4067045450210571, 0.5148000121116638]"
      ]
     },
     "execution_count": 13,
     "metadata": {},
     "output_type": "execute_result"
    }
   ],
   "source": [
    "ann.evaluate(x_test , y_test)"
   ]
  },
  {
   "cell_type": "code",
   "execution_count": 14,
   "metadata": {},
   "outputs": [],
   "source": [
    "from sklearn.metrics import classification_report\n"
   ]
  },
  {
   "cell_type": "code",
   "execution_count": 15,
   "metadata": {},
   "outputs": [
    {
     "name": "stdout",
     "output_type": "stream",
     "text": [
      "313/313 [==============================] - 2s 5ms/step\n"
     ]
    }
   ],
   "source": [
    "y_pred = ann.predict(x_test)\n",
    "y_pred_classes = [np.argmax(element) for element in y_pred]"
   ]
  },
  {
   "cell_type": "code",
   "execution_count": 16,
   "metadata": {},
   "outputs": [
    {
     "name": "stdout",
     "output_type": "stream",
     "text": [
      "Classification Report : \n",
      "               precision    recall  f1-score   support\n",
      "\n",
      "           0       0.62      0.54      0.58      1000\n",
      "           1       0.75      0.53      0.62      1000\n",
      "           2       0.44      0.42      0.43      1000\n",
      "           3       0.35      0.45      0.39      1000\n",
      "           4       0.38      0.62      0.47      1000\n",
      "           5       0.47      0.42      0.44      1000\n",
      "           6       0.66      0.53      0.59      1000\n",
      "           7       0.74      0.50      0.59      1000\n",
      "           8       0.46      0.82      0.59      1000\n",
      "           9       0.82      0.32      0.46      1000\n",
      "\n",
      "    accuracy                           0.51     10000\n",
      "   macro avg       0.57      0.51      0.52     10000\n",
      "weighted avg       0.57      0.51      0.52     10000\n",
      "\n"
     ]
    }
   ],
   "source": [
    "print(\"Classification Report : \\n\",classification_report(y_test , y_pred_classes))"
   ]
  },
  {
   "attachments": {},
   "cell_type": "markdown",
   "metadata": {},
   "source": [
    "Creating a CNN model"
   ]
  },
  {
   "cell_type": "code",
   "execution_count": 17,
   "metadata": {},
   "outputs": [],
   "source": [
    "cnn = models.Sequential([\n",
    "\n",
    "    layers.Conv2D(filters = 32 , activation = 'relu' , kernel_size = (3,3) , input_shape = (32,32,3)),\n",
    "    layers.MaxPooling2D((2,2)),\n",
    "\n",
    "    layers.Conv2D(filters = 32 , activation = 'relu' , kernel_size = (3,3)),\n",
    "    layers.MaxPooling2D((2,2)),\n",
    "\n",
    "    layers.Flatten(),\n",
    "    layers.Dense(64, activation = 'relu'),\n",
    "    layers.Dense(10 , activation = 'softmax')\n",
    "\n",
    "])"
   ]
  },
  {
   "cell_type": "code",
   "execution_count": 18,
   "metadata": {},
   "outputs": [],
   "source": [
    "cnn.compile(optimizer= 'adam' , loss = 'sparse_categorical_crossentropy' , metrics= ['accuracy'])"
   ]
  },
  {
   "cell_type": "code",
   "execution_count": 19,
   "metadata": {},
   "outputs": [
    {
     "name": "stdout",
     "output_type": "stream",
     "text": [
      "Epoch 1/20\n",
      "1563/1563 [==============================] - 12s 8ms/step - loss: 1.5007 - accuracy: 0.4574\n",
      "Epoch 2/20\n",
      "1563/1563 [==============================] - 12s 8ms/step - loss: 1.1761 - accuracy: 0.5868\n",
      "Epoch 3/20\n",
      "1563/1563 [==============================] - 12s 8ms/step - loss: 1.0440 - accuracy: 0.6352\n",
      "Epoch 4/20\n",
      "1563/1563 [==============================] - 12s 8ms/step - loss: 0.9643 - accuracy: 0.6640\n",
      "Epoch 5/20\n",
      "1563/1563 [==============================] - 12s 8ms/step - loss: 0.9089 - accuracy: 0.6826\n",
      "Epoch 6/20\n",
      "1563/1563 [==============================] - 12s 8ms/step - loss: 0.8638 - accuracy: 0.7001\n",
      "Epoch 7/20\n",
      "1563/1563 [==============================] - 12s 8ms/step - loss: 0.8268 - accuracy: 0.7114\n",
      "Epoch 8/20\n",
      "1563/1563 [==============================] - 12s 8ms/step - loss: 0.7919 - accuracy: 0.7238\n",
      "Epoch 9/20\n",
      "1563/1563 [==============================] - 12s 8ms/step - loss: 0.7671 - accuracy: 0.7316\n",
      "Epoch 10/20\n",
      "1563/1563 [==============================] - 12s 8ms/step - loss: 0.7377 - accuracy: 0.7420\n",
      "Epoch 11/20\n",
      "1563/1563 [==============================] - 12s 8ms/step - loss: 0.7163 - accuracy: 0.7481\n",
      "Epoch 12/20\n",
      "1563/1563 [==============================] - 12s 8ms/step - loss: 0.6898 - accuracy: 0.7572\n",
      "Epoch 13/20\n",
      "1563/1563 [==============================] - 12s 8ms/step - loss: 0.6684 - accuracy: 0.7646\n",
      "Epoch 14/20\n",
      "1563/1563 [==============================] - 12s 8ms/step - loss: 0.6472 - accuracy: 0.7717\n",
      "Epoch 15/20\n",
      "1563/1563 [==============================] - 12s 8ms/step - loss: 0.6297 - accuracy: 0.7777\n",
      "Epoch 16/20\n",
      "1563/1563 [==============================] - 12s 8ms/step - loss: 0.6108 - accuracy: 0.7840\n",
      "Epoch 17/20\n",
      "1563/1563 [==============================] - 12s 8ms/step - loss: 0.5896 - accuracy: 0.7913\n",
      "Epoch 18/20\n",
      "1563/1563 [==============================] - 12s 8ms/step - loss: 0.5790 - accuracy: 0.7937\n",
      "Epoch 19/20\n",
      "1563/1563 [==============================] - 12s 8ms/step - loss: 0.5605 - accuracy: 0.8007\n",
      "Epoch 20/20\n",
      "1563/1563 [==============================] - 12s 8ms/step - loss: 0.5433 - accuracy: 0.8069\n"
     ]
    },
    {
     "data": {
      "text/plain": [
       "<keras.callbacks.History at 0x292c57f40>"
      ]
     },
     "execution_count": 19,
     "metadata": {},
     "output_type": "execute_result"
    }
   ],
   "source": [
    "cnn.fit(x_train , y_train , epochs= 20)"
   ]
  },
  {
   "cell_type": "code",
   "execution_count": 20,
   "metadata": {},
   "outputs": [
    {
     "name": "stdout",
     "output_type": "stream",
     "text": [
      "313/313 [==============================] - 2s 5ms/step - loss: 1.0406 - accuracy: 0.6839\n"
     ]
    },
    {
     "data": {
      "text/plain": [
       "[1.0406330823898315, 0.683899998664856]"
      ]
     },
     "execution_count": 20,
     "metadata": {},
     "output_type": "execute_result"
    }
   ],
   "source": [
    "cnn.evaluate(x_test , y_test)"
   ]
  },
  {
   "cell_type": "code",
   "execution_count": 21,
   "metadata": {},
   "outputs": [
    {
     "name": "stdout",
     "output_type": "stream",
     "text": [
      "313/313 [==============================] - 1s 3ms/step\n"
     ]
    }
   ],
   "source": [
    "y_pred = cnn.predict(x_test)"
   ]
  },
  {
   "cell_type": "code",
   "execution_count": 22,
   "metadata": {},
   "outputs": [],
   "source": [
    "y_classes = [np.argmax(element) for element in y_pred]"
   ]
  },
  {
   "cell_type": "code",
   "execution_count": 23,
   "metadata": {},
   "outputs": [],
   "source": [
    "y_test = y_test.reshape(-1,)"
   ]
  },
  {
   "cell_type": "code",
   "execution_count": 24,
   "metadata": {},
   "outputs": [
    {
     "data": {
      "image/png": "[encoded data removed]",
      "text/plain": [
       "<Figure size 1500x200 with 1 Axes>"
      ]
     },
     "metadata": {},
     "output_type": "display_data"
    },
    {
     "data": {
      "text/plain": [
       "'deer'"
      ]
     },
     "execution_count": 24,
     "metadata": {},
     "output_type": "execute_result"
    }
   ],
   "source": [
    "INDEX = 10\n",
    "plot_sample(x_test , y_test , INDEX)\n",
    "classes[y_classes[INDEX]]\n"
   ]
  },
  {
   "cell_type": "code",
   "execution_count": 25,
   "metadata": {},
   "outputs": [
    {
     "name": "stdout",
     "output_type": "stream",
     "text": [
      "Classification report : \n",
      "               precision    recall  f1-score   support\n",
      "\n",
      "           0       0.69      0.75      0.72      1000\n",
      "           1       0.79      0.80      0.80      1000\n",
      "           2       0.60      0.57      0.58      1000\n",
      "           3       0.47      0.55      0.51      1000\n",
      "           4       0.69      0.58      0.63      1000\n",
      "           5       0.57      0.61      0.59      1000\n",
      "           6       0.76      0.76      0.76      1000\n",
      "           7       0.73      0.72      0.72      1000\n",
      "           8       0.83      0.73      0.77      1000\n",
      "           9       0.76      0.77      0.76      1000\n",
      "\n",
      "    accuracy                           0.68     10000\n",
      "   macro avg       0.69      0.68      0.69     10000\n",
      "weighted avg       0.69      0.68      0.69     10000\n",
      "\n"
     ]
    }
   ],
   "source": [
    "print(\"Classification report : \\n\" , classification_report(y_test , y_classes) )"
   ]
  },
  {
   "cell_type": "code",
   "execution_count": 63,
   "metadata": {},
   "outputs": [
    {
     "name": "stderr",
     "output_type": "stream",
     "text": [
      "WARNING:absl:Found untraced functions such as _jit_compiled_convolution_op, _jit_compiled_convolution_op while saving (showing 2 of 2). These functions will not be directly callable after loading.\n"
     ]
    },
    {
     "name": "stdout",
     "output_type": "stream",
     "text": [
      "INFO:tensorflow:Assets written to: ./cifar_cnn_classification_model/assets\n"
     ]
    },
    {
     "name": "stderr",
     "output_type": "stream",
     "text": [
      "INFO:tensorflow:Assets written to: ./cifar_cnn_classification_model/assets\n"
     ]
    }
   ],
   "source": [
    "cnn.save(\"./cifar_cnn_classification_model\")"
   ]
  }
 ],
 "metadata": {
  "kernelspec": {
   "display_name": "pyplay",
   "language": "python",
   "name": "python3"
  },
  "language_info": {
   "codemirror_mode": {
    "name": "ipython",
    "version": 3
   },
   "file_extension": ".py",
   "mimetype": "text/x-python",
   "name": "python",
   "nbconvert_exporter": "python",
   "pygments_lexer": "ipython3",
   "version": "3.9.12"
  },
  "orig_nbformat": 4
 },
 "nbformat": 4,
 "nbformat_minor": 2
}
