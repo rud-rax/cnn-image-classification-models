{
 "cells": [
  {
   "cell_type": "code",
   "execution_count": 8,
   "metadata": {},
   "outputs": [],
   "source": [
    "import pandas as pd\n",
    "from sklearn.metrics import classification_report\n",
    "import numpy as np\n",
    "\n",
    "from tensorflow.keras.datasets import cifar10\n",
    "from tensorflow.keras.utils import to_categorical\n",
    "from tensorflow.keras.models import load_model\n",
    "\n"
   ]
  },
  {
   "cell_type": "code",
   "execution_count": 9,
   "metadata": {},
   "outputs": [],
   "source": [
    "classes = [\"airplane\", \"automobile\", \"bird\", \"cat\", \"deer\", \"dog\", \"frog\", \"horse\", \"ship\", \"truck\"]\n"
   ]
  },
  {
   "cell_type": "code",
   "execution_count": 10,
   "metadata": {},
   "outputs": [],
   "source": [
    "\n",
    "\n",
    "# Load the CIFAR-10 dataset\n",
    "(x_train, y_train), (x_test, y_test) = cifar10.load_data()\n",
    "\n",
    "# Preprocess the data\n",
    "x_train = x_train.astype('float32') / 255.0\n",
    "x_test = x_test.astype('float32') / 255.0\n",
    "y_train = to_categorical(y_train, num_classes=10)\n",
    "y_test = to_categorical(y_test, num_classes=10)\n",
    "\n"
   ]
  },
  {
   "cell_type": "code",
   "execution_count": 11,
   "metadata": {},
   "outputs": [],
   "source": [
    "y_test = pd.DataFrame(y_test)\n",
    "y_test = y_test.idxmax(1)\n",
    "\n",
    "y_test = [classes[i] for i in y_test]\n",
    "\n"
   ]
  },
  {
   "cell_type": "code",
   "execution_count": 12,
   "metadata": {},
   "outputs": [
    {
     "data": {
      "text/plain": [
       "'cat'"
      ]
     },
     "execution_count": 12,
     "metadata": {},
     "output_type": "execute_result"
    }
   ],
   "source": [
    "y_test[0]"
   ]
  },
  {
   "cell_type": "code",
   "execution_count": 13,
   "metadata": {},
   "outputs": [
    {
     "data": {
      "text/plain": [
       "array([[[0.61960787, 0.4392157 , 0.19215687],\n",
       "        [0.62352943, 0.43529412, 0.18431373],\n",
       "        [0.64705884, 0.45490196, 0.2       ],\n",
       "        ...,\n",
       "        [0.5372549 , 0.37254903, 0.14117648],\n",
       "        [0.49411765, 0.35686275, 0.14117648],\n",
       "        [0.45490196, 0.33333334, 0.12941177]],\n",
       "\n",
       "       [[0.59607846, 0.4392157 , 0.2       ],\n",
       "        [0.5921569 , 0.43137255, 0.15686275],\n",
       "        [0.62352943, 0.44705883, 0.1764706 ],\n",
       "        ...,\n",
       "        [0.53333336, 0.37254903, 0.12156863],\n",
       "        [0.49019608, 0.35686275, 0.1254902 ],\n",
       "        [0.46666667, 0.34509805, 0.13333334]],\n",
       "\n",
       "       [[0.5921569 , 0.43137255, 0.18431373],\n",
       "        [0.5921569 , 0.42745098, 0.12941177],\n",
       "        [0.61960787, 0.43529412, 0.14117648],\n",
       "        ...,\n",
       "        [0.54509807, 0.38431373, 0.13333334],\n",
       "        [0.50980395, 0.37254903, 0.13333334],\n",
       "        [0.47058824, 0.34901962, 0.12941177]],\n",
       "\n",
       "       ...,\n",
       "\n",
       "       [[0.26666668, 0.4862745 , 0.69411767],\n",
       "        [0.16470589, 0.39215687, 0.5803922 ],\n",
       "        [0.12156863, 0.34509805, 0.5372549 ],\n",
       "        ...,\n",
       "        [0.14901961, 0.38039216, 0.57254905],\n",
       "        [0.05098039, 0.2509804 , 0.42352942],\n",
       "        [0.15686275, 0.33333334, 0.49803922]],\n",
       "\n",
       "       [[0.23921569, 0.45490196, 0.65882355],\n",
       "        [0.19215687, 0.4       , 0.5803922 ],\n",
       "        [0.13725491, 0.33333334, 0.5176471 ],\n",
       "        ...,\n",
       "        [0.10196079, 0.32156864, 0.50980395],\n",
       "        [0.11372549, 0.32156864, 0.49411765],\n",
       "        [0.07843138, 0.2509804 , 0.41960785]],\n",
       "\n",
       "       [[0.21176471, 0.41960785, 0.627451  ],\n",
       "        [0.21960784, 0.4117647 , 0.58431375],\n",
       "        [0.1764706 , 0.34901962, 0.5176471 ],\n",
       "        ...,\n",
       "        [0.09411765, 0.3019608 , 0.4862745 ],\n",
       "        [0.13333334, 0.32941177, 0.5058824 ],\n",
       "        [0.08235294, 0.2627451 , 0.43137255]]], dtype=float32)"
      ]
     },
     "execution_count": 13,
     "metadata": {},
     "output_type": "execute_result"
    }
   ],
   "source": [
    "x_test[0]"
   ]
  },
  {
   "attachments": {},
   "cell_type": "markdown",
   "metadata": {},
   "source": [
    "AlexNet"
   ]
  },
  {
   "cell_type": "code",
   "execution_count": 14,
   "metadata": {},
   "outputs": [
    {
     "name": "stdout",
     "output_type": "stream",
     "text": [
      "Metal device set to: Apple M2\n",
      "\n",
      "systemMemory: 16.00 GB\n",
      "maxCacheSize: 5.33 GB\n",
      "\n"
     ]
    }
   ],
   "source": [
    "alexnet = load_model(r\"models/alexnet_model/\")"
   ]
  },
  {
   "cell_type": "code",
   "execution_count": 15,
   "metadata": {},
   "outputs": [
    {
     "name": "stdout",
     "output_type": "stream",
     "text": [
      " 10/313 [..............................] - ETA: 1s "
     ]
    },
    {
     "name": "stderr",
     "output_type": "stream",
     "text": [
      "2023-05-28 12:44:38.420065: W tensorflow/tsl/platform/profile_utils/cpu_utils.cc:128] Failed to get CPU frequency: 0 Hz\n"
     ]
    },
    {
     "name": "stdout",
     "output_type": "stream",
     "text": [
      "313/313 [==============================] - 2s 5ms/step\n"
     ]
    }
   ],
   "source": [
    "y_pred = alexnet.predict(x_test)\n",
    "y_pred_classes = [classes[np.argmax(element)] for element in y_pred]\n"
   ]
  },
  {
   "cell_type": "code",
   "execution_count": 42,
   "metadata": {},
   "outputs": [
    {
     "name": "stdout",
     "output_type": "stream",
     "text": [
      "Classification Report for AlexNet: \n",
      "               precision    recall  f1-score   support\n",
      "\n",
      "    airplane       0.80      0.82      0.81      1000\n",
      "  automobile       0.86      0.90      0.88      1000\n",
      "        bird       0.64      0.69      0.67      1000\n",
      "         cat       0.58      0.59      0.58      1000\n",
      "        deer       0.73      0.71      0.72      1000\n",
      "         dog       0.68      0.65      0.66      1000\n",
      "        frog       0.81      0.81      0.81      1000\n",
      "       horse       0.80      0.79      0.80      1000\n",
      "        ship       0.88      0.82      0.85      1000\n",
      "       truck       0.85      0.83      0.84      1000\n",
      "\n",
      "    accuracy                           0.76     10000\n",
      "   macro avg       0.76      0.76      0.76     10000\n",
      "weighted avg       0.76      0.76      0.76     10000\n",
      "\n"
     ]
    }
   ],
   "source": [
    "print(\"Classification Report for AlexNet: \\n\",classification_report(y_test , y_pred_classes))\n"
   ]
  },
  {
   "attachments": {},
   "cell_type": "markdown",
   "metadata": {},
   "source": [
    "VGGNet"
   ]
  },
  {
   "cell_type": "code",
   "execution_count": 18,
   "metadata": {},
   "outputs": [],
   "source": [
    "vggnet = load_model(r\"models/vggnet_model/\")"
   ]
  },
  {
   "cell_type": "code",
   "execution_count": 43,
   "metadata": {},
   "outputs": [
    {
     "name": "stdout",
     "output_type": "stream",
     "text": [
      "313/313 [==============================] - 4s 11ms/step\n"
     ]
    }
   ],
   "source": [
    "y_pred = vggnet.predict(x_test)\n",
    "y_pred_classes = [classes[np.argmax(element)] for element in y_pred]\n",
    "\n"
   ]
  },
  {
   "cell_type": "code",
   "execution_count": 44,
   "metadata": {},
   "outputs": [
    {
     "name": "stdout",
     "output_type": "stream",
     "text": [
      "Classification Report for VGGNet: \n",
      "               precision    recall  f1-score   support\n",
      "\n",
      "    airplane       0.71      0.66      0.68      1000\n",
      "  automobile       0.65      0.69      0.67      1000\n",
      "        bird       0.53      0.54      0.54      1000\n",
      "         cat       0.48      0.36      0.41      1000\n",
      "        deer       0.58      0.59      0.58      1000\n",
      "         dog       0.52      0.53      0.53      1000\n",
      "        frog       0.65      0.66      0.66      1000\n",
      "       horse       0.64      0.71      0.67      1000\n",
      "        ship       0.75      0.71      0.73      1000\n",
      "       truck       0.61      0.67      0.64      1000\n",
      "\n",
      "    accuracy                           0.61     10000\n",
      "   macro avg       0.61      0.61      0.61     10000\n",
      "weighted avg       0.61      0.61      0.61     10000\n",
      "\n"
     ]
    }
   ],
   "source": [
    "print(\"Classification Report for VGGNet: \\n\",classification_report(y_test , y_pred_classes))\n"
   ]
  },
  {
   "attachments": {},
   "cell_type": "markdown",
   "metadata": {},
   "source": [
    "ResNet"
   ]
  },
  {
   "cell_type": "code",
   "execution_count": 45,
   "metadata": {},
   "outputs": [],
   "source": [
    "resnet = load_model(r\"models/resnet_model/\")\n"
   ]
  },
  {
   "cell_type": "code",
   "execution_count": 46,
   "metadata": {},
   "outputs": [
    {
     "name": "stdout",
     "output_type": "stream",
     "text": [
      "313/313 [==============================] - 7s 20ms/step\n"
     ]
    }
   ],
   "source": [
    "y_pred = resnet.predict(x_test)\n",
    "y_pred_classes = [classes[np.argmax(element)] for element in y_pred]\n",
    "\n"
   ]
  },
  {
   "cell_type": "code",
   "execution_count": 47,
   "metadata": {},
   "outputs": [
    {
     "name": "stdout",
     "output_type": "stream",
     "text": [
      "Classification Report for ResNet: \n",
      "               precision    recall  f1-score   support\n",
      "\n",
      "    airplane       0.53      0.40      0.46      1000\n",
      "  automobile       0.47      0.46      0.46      1000\n",
      "        bird       0.37      0.26      0.31      1000\n",
      "         cat       0.31      0.20      0.24      1000\n",
      "        deer       0.45      0.36      0.40      1000\n",
      "         dog       0.34      0.54      0.42      1000\n",
      "        frog       0.57      0.34      0.43      1000\n",
      "       horse       0.62      0.36      0.46      1000\n",
      "        ship       0.39      0.75      0.52      1000\n",
      "       truck       0.40      0.58      0.47      1000\n",
      "\n",
      "    accuracy                           0.43     10000\n",
      "   macro avg       0.44      0.43      0.42     10000\n",
      "weighted avg       0.44      0.43      0.42     10000\n",
      "\n"
     ]
    }
   ],
   "source": [
    "print(\"Classification Report for ResNet: \\n\",classification_report(y_test , y_pred_classes))\n"
   ]
  },
  {
   "cell_type": "code",
   "execution_count": null,
   "metadata": {},
   "outputs": [],
   "source": []
  }
 ],
 "metadata": {
  "kernelspec": {
   "display_name": "pyplay",
   "language": "python",
   "name": "python3"
  },
  "language_info": {
   "codemirror_mode": {
    "name": "ipython",
    "version": 3
   },
   "file_extension": ".py",
   "mimetype": "text/x-python",
   "name": "python",
   "nbconvert_exporter": "python",
   "pygments_lexer": "ipython3",
   "version": "3.9.12"
  },
  "orig_nbformat": 4
 },
 "nbformat": 4,
 "nbformat_minor": 2
}
